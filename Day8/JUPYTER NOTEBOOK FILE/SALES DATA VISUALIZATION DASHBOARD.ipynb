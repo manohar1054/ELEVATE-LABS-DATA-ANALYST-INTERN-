{
 "cells": [
  {
   "cell_type": "code",
   "execution_count": null,
   "id": "aef71ddf-208b-46ab-93aa-bafd8e58c846",
   "metadata": {},
   "outputs": [],
   "source": [
    "# Import required libraries"
   ]
  },
  {
   "cell_type": "code",
   "execution_count": 1,
   "id": "2f7a7737-b6c7-4442-b1b5-ca4532e8a228",
   "metadata": {},
   "outputs": [],
   "source": [
    "import pandas as pd"
   ]
  },
  {
   "cell_type": "code",
   "execution_count": null,
   "id": "fc63b0ab-7ad5-4412-9d16-76476bb994a8",
   "metadata": {},
   "outputs": [],
   "source": [
    "# Load the CSV file from the specified local path"
   ]
  },
  {
   "cell_type": "code",
   "execution_count": 2,
   "id": "d45d6d5c-33c9-44a5-bc0d-719cbcf05374",
   "metadata": {},
   "outputs": [],
   "source": [
    "file_path = r\"C:\\Users\\LENOVO\\Desktop\\Elevate Labs Internship tasks\\Day8\\sales_data_sample.csv\"\n",
    "sales_data = pd.read_csv(file_path, encoding='ISO-8859-1')"
   ]
  },
  {
   "cell_type": "code",
   "execution_count": null,
   "id": "aa004d69-004c-488b-9950-f6f6d12db1df",
   "metadata": {},
   "outputs": [],
   "source": [
    "# Display the first 5 rows"
   ]
  },
  {
   "cell_type": "code",
   "execution_count": 3,
   "id": "d9b7794f-fed2-4208-b1b2-b1a5b1165a3d",
   "metadata": {},
   "outputs": [
    {
     "data": {
      "text/html": [
       "<div>\n",
       "<style scoped>\n",
       "    .dataframe tbody tr th:only-of-type {\n",
       "        vertical-align: middle;\n",
       "    }\n",
       "\n",
       "    .dataframe tbody tr th {\n",
       "        vertical-align: top;\n",
       "    }\n",
       "\n",
       "    .dataframe thead th {\n",
       "        text-align: right;\n",
       "    }\n",
       "</style>\n",
       "<table border=\"1\" class=\"dataframe\">\n",
       "  <thead>\n",
       "    <tr style=\"text-align: right;\">\n",
       "      <th></th>\n",
       "      <th>ORDERNUMBER</th>\n",
       "      <th>QUANTITYORDERED</th>\n",
       "      <th>PRICEEACH</th>\n",
       "      <th>ORDERLINENUMBER</th>\n",
       "      <th>SALES</th>\n",
       "      <th>ORDERDATE</th>\n",
       "      <th>STATUS</th>\n",
       "      <th>QTR_ID</th>\n",
       "      <th>MONTH_ID</th>\n",
       "      <th>YEAR_ID</th>\n",
       "      <th>...</th>\n",
       "      <th>ADDRESSLINE1</th>\n",
       "      <th>ADDRESSLINE2</th>\n",
       "      <th>CITY</th>\n",
       "      <th>STATE</th>\n",
       "      <th>POSTALCODE</th>\n",
       "      <th>COUNTRY</th>\n",
       "      <th>TERRITORY</th>\n",
       "      <th>CONTACTLASTNAME</th>\n",
       "      <th>CONTACTFIRSTNAME</th>\n",
       "      <th>DEALSIZE</th>\n",
       "    </tr>\n",
       "  </thead>\n",
       "  <tbody>\n",
       "    <tr>\n",
       "      <th>0</th>\n",
       "      <td>10107</td>\n",
       "      <td>30</td>\n",
       "      <td>95.70</td>\n",
       "      <td>2</td>\n",
       "      <td>2871.00</td>\n",
       "      <td>2/24/2003 0:00</td>\n",
       "      <td>Shipped</td>\n",
       "      <td>1</td>\n",
       "      <td>2</td>\n",
       "      <td>2003</td>\n",
       "      <td>...</td>\n",
       "      <td>897 Long Airport Avenue</td>\n",
       "      <td>NaN</td>\n",
       "      <td>NYC</td>\n",
       "      <td>NY</td>\n",
       "      <td>10022</td>\n",
       "      <td>USA</td>\n",
       "      <td>NaN</td>\n",
       "      <td>Yu</td>\n",
       "      <td>Kwai</td>\n",
       "      <td>Small</td>\n",
       "    </tr>\n",
       "    <tr>\n",
       "      <th>1</th>\n",
       "      <td>10121</td>\n",
       "      <td>34</td>\n",
       "      <td>81.35</td>\n",
       "      <td>5</td>\n",
       "      <td>2765.90</td>\n",
       "      <td>5/7/2003 0:00</td>\n",
       "      <td>Shipped</td>\n",
       "      <td>2</td>\n",
       "      <td>5</td>\n",
       "      <td>2003</td>\n",
       "      <td>...</td>\n",
       "      <td>59 rue de l'Abbaye</td>\n",
       "      <td>NaN</td>\n",
       "      <td>Reims</td>\n",
       "      <td>NaN</td>\n",
       "      <td>51100</td>\n",
       "      <td>France</td>\n",
       "      <td>EMEA</td>\n",
       "      <td>Henriot</td>\n",
       "      <td>Paul</td>\n",
       "      <td>Small</td>\n",
       "    </tr>\n",
       "    <tr>\n",
       "      <th>2</th>\n",
       "      <td>10134</td>\n",
       "      <td>41</td>\n",
       "      <td>94.74</td>\n",
       "      <td>2</td>\n",
       "      <td>3884.34</td>\n",
       "      <td>7/1/2003 0:00</td>\n",
       "      <td>Shipped</td>\n",
       "      <td>3</td>\n",
       "      <td>7</td>\n",
       "      <td>2003</td>\n",
       "      <td>...</td>\n",
       "      <td>27 rue du Colonel Pierre Avia</td>\n",
       "      <td>NaN</td>\n",
       "      <td>Paris</td>\n",
       "      <td>NaN</td>\n",
       "      <td>75508</td>\n",
       "      <td>France</td>\n",
       "      <td>EMEA</td>\n",
       "      <td>Da Cunha</td>\n",
       "      <td>Daniel</td>\n",
       "      <td>Medium</td>\n",
       "    </tr>\n",
       "    <tr>\n",
       "      <th>3</th>\n",
       "      <td>10145</td>\n",
       "      <td>45</td>\n",
       "      <td>83.26</td>\n",
       "      <td>6</td>\n",
       "      <td>3746.70</td>\n",
       "      <td>8/25/2003 0:00</td>\n",
       "      <td>Shipped</td>\n",
       "      <td>3</td>\n",
       "      <td>8</td>\n",
       "      <td>2003</td>\n",
       "      <td>...</td>\n",
       "      <td>78934 Hillside Dr.</td>\n",
       "      <td>NaN</td>\n",
       "      <td>Pasadena</td>\n",
       "      <td>CA</td>\n",
       "      <td>90003</td>\n",
       "      <td>USA</td>\n",
       "      <td>NaN</td>\n",
       "      <td>Young</td>\n",
       "      <td>Julie</td>\n",
       "      <td>Medium</td>\n",
       "    </tr>\n",
       "    <tr>\n",
       "      <th>4</th>\n",
       "      <td>10159</td>\n",
       "      <td>49</td>\n",
       "      <td>100.00</td>\n",
       "      <td>14</td>\n",
       "      <td>5205.27</td>\n",
       "      <td>10/10/2003 0:00</td>\n",
       "      <td>Shipped</td>\n",
       "      <td>4</td>\n",
       "      <td>10</td>\n",
       "      <td>2003</td>\n",
       "      <td>...</td>\n",
       "      <td>7734 Strong St.</td>\n",
       "      <td>NaN</td>\n",
       "      <td>San Francisco</td>\n",
       "      <td>CA</td>\n",
       "      <td>NaN</td>\n",
       "      <td>USA</td>\n",
       "      <td>NaN</td>\n",
       "      <td>Brown</td>\n",
       "      <td>Julie</td>\n",
       "      <td>Medium</td>\n",
       "    </tr>\n",
       "  </tbody>\n",
       "</table>\n",
       "<p>5 rows × 25 columns</p>\n",
       "</div>"
      ],
      "text/plain": [
       "   ORDERNUMBER  QUANTITYORDERED  PRICEEACH  ORDERLINENUMBER    SALES  \\\n",
       "0        10107               30      95.70                2  2871.00   \n",
       "1        10121               34      81.35                5  2765.90   \n",
       "2        10134               41      94.74                2  3884.34   \n",
       "3        10145               45      83.26                6  3746.70   \n",
       "4        10159               49     100.00               14  5205.27   \n",
       "\n",
       "         ORDERDATE   STATUS  QTR_ID  MONTH_ID  YEAR_ID  ...  \\\n",
       "0   2/24/2003 0:00  Shipped       1         2     2003  ...   \n",
       "1    5/7/2003 0:00  Shipped       2         5     2003  ...   \n",
       "2    7/1/2003 0:00  Shipped       3         7     2003  ...   \n",
       "3   8/25/2003 0:00  Shipped       3         8     2003  ...   \n",
       "4  10/10/2003 0:00  Shipped       4        10     2003  ...   \n",
       "\n",
       "                    ADDRESSLINE1  ADDRESSLINE2           CITY STATE  \\\n",
       "0        897 Long Airport Avenue           NaN            NYC    NY   \n",
       "1             59 rue de l'Abbaye           NaN          Reims   NaN   \n",
       "2  27 rue du Colonel Pierre Avia           NaN          Paris   NaN   \n",
       "3             78934 Hillside Dr.           NaN       Pasadena    CA   \n",
       "4                7734 Strong St.           NaN  San Francisco    CA   \n",
       "\n",
       "  POSTALCODE COUNTRY TERRITORY CONTACTLASTNAME CONTACTFIRSTNAME DEALSIZE  \n",
       "0      10022     USA       NaN              Yu             Kwai    Small  \n",
       "1      51100  France      EMEA         Henriot             Paul    Small  \n",
       "2      75508  France      EMEA        Da Cunha           Daniel   Medium  \n",
       "3      90003     USA       NaN           Young            Julie   Medium  \n",
       "4        NaN     USA       NaN           Brown            Julie   Medium  \n",
       "\n",
       "[5 rows x 25 columns]"
      ]
     },
     "execution_count": 3,
     "metadata": {},
     "output_type": "execute_result"
    }
   ],
   "source": [
    "sales_data.head()"
   ]
  },
  {
   "cell_type": "code",
   "execution_count": null,
   "id": "5cf0b142-e828-4be5-b06d-7169fded5bc4",
   "metadata": {},
   "outputs": [],
   "source": [
    "Additional Queries You Can Use\n"
   ]
  },
  {
   "cell_type": "code",
   "execution_count": null,
   "id": "cb397531-d893-40ca-b05e-75a69c2a6beb",
   "metadata": {},
   "outputs": [],
   "source": [
    "# 1. Get basic info about the dataset"
   ]
  },
  {
   "cell_type": "code",
   "execution_count": 4,
   "id": "e0406446-a506-4f70-9528-fa8f0cdd8ed6",
   "metadata": {},
   "outputs": [
    {
     "name": "stdout",
     "output_type": "stream",
     "text": [
      "<class 'pandas.core.frame.DataFrame'>\n",
      "RangeIndex: 2823 entries, 0 to 2822\n",
      "Data columns (total 25 columns):\n",
      " #   Column            Non-Null Count  Dtype  \n",
      "---  ------            --------------  -----  \n",
      " 0   ORDERNUMBER       2823 non-null   int64  \n",
      " 1   QUANTITYORDERED   2823 non-null   int64  \n",
      " 2   PRICEEACH         2823 non-null   float64\n",
      " 3   ORDERLINENUMBER   2823 non-null   int64  \n",
      " 4   SALES             2823 non-null   float64\n",
      " 5   ORDERDATE         2823 non-null   object \n",
      " 6   STATUS            2823 non-null   object \n",
      " 7   QTR_ID            2823 non-null   int64  \n",
      " 8   MONTH_ID          2823 non-null   int64  \n",
      " 9   YEAR_ID           2823 non-null   int64  \n",
      " 10  PRODUCTLINE       2823 non-null   object \n",
      " 11  MSRP              2823 non-null   int64  \n",
      " 12  PRODUCTCODE       2823 non-null   object \n",
      " 13  CUSTOMERNAME      2823 non-null   object \n",
      " 14  PHONE             2823 non-null   object \n",
      " 15  ADDRESSLINE1      2823 non-null   object \n",
      " 16  ADDRESSLINE2      302 non-null    object \n",
      " 17  CITY              2823 non-null   object \n",
      " 18  STATE             1337 non-null   object \n",
      " 19  POSTALCODE        2747 non-null   object \n",
      " 20  COUNTRY           2823 non-null   object \n",
      " 21  TERRITORY         1749 non-null   object \n",
      " 22  CONTACTLASTNAME   2823 non-null   object \n",
      " 23  CONTACTFIRSTNAME  2823 non-null   object \n",
      " 24  DEALSIZE          2823 non-null   object \n",
      "dtypes: float64(2), int64(7), object(16)\n",
      "memory usage: 551.5+ KB\n"
     ]
    }
   ],
   "source": [
    "sales_data.info()"
   ]
  },
  {
   "cell_type": "code",
   "execution_count": null,
   "id": "e757d069-5c81-42e4-b063-df82685b4426",
   "metadata": {},
   "outputs": [],
   "source": [
    "# 2. Summary statistics for numeric columns"
   ]
  },
  {
   "cell_type": "code",
   "execution_count": 5,
   "id": "daec2d08-7343-46dd-8f42-ec0ae513bb99",
   "metadata": {},
   "outputs": [
    {
     "data": {
      "text/html": [
       "<div>\n",
       "<style scoped>\n",
       "    .dataframe tbody tr th:only-of-type {\n",
       "        vertical-align: middle;\n",
       "    }\n",
       "\n",
       "    .dataframe tbody tr th {\n",
       "        vertical-align: top;\n",
       "    }\n",
       "\n",
       "    .dataframe thead th {\n",
       "        text-align: right;\n",
       "    }\n",
       "</style>\n",
       "<table border=\"1\" class=\"dataframe\">\n",
       "  <thead>\n",
       "    <tr style=\"text-align: right;\">\n",
       "      <th></th>\n",
       "      <th>ORDERNUMBER</th>\n",
       "      <th>QUANTITYORDERED</th>\n",
       "      <th>PRICEEACH</th>\n",
       "      <th>ORDERLINENUMBER</th>\n",
       "      <th>SALES</th>\n",
       "      <th>QTR_ID</th>\n",
       "      <th>MONTH_ID</th>\n",
       "      <th>YEAR_ID</th>\n",
       "      <th>MSRP</th>\n",
       "    </tr>\n",
       "  </thead>\n",
       "  <tbody>\n",
       "    <tr>\n",
       "      <th>count</th>\n",
       "      <td>2823.000000</td>\n",
       "      <td>2823.000000</td>\n",
       "      <td>2823.000000</td>\n",
       "      <td>2823.000000</td>\n",
       "      <td>2823.000000</td>\n",
       "      <td>2823.000000</td>\n",
       "      <td>2823.000000</td>\n",
       "      <td>2823.00000</td>\n",
       "      <td>2823.000000</td>\n",
       "    </tr>\n",
       "    <tr>\n",
       "      <th>mean</th>\n",
       "      <td>10258.725115</td>\n",
       "      <td>35.092809</td>\n",
       "      <td>83.658544</td>\n",
       "      <td>6.466171</td>\n",
       "      <td>3553.889072</td>\n",
       "      <td>2.717676</td>\n",
       "      <td>7.092455</td>\n",
       "      <td>2003.81509</td>\n",
       "      <td>100.715551</td>\n",
       "    </tr>\n",
       "    <tr>\n",
       "      <th>std</th>\n",
       "      <td>92.085478</td>\n",
       "      <td>9.741443</td>\n",
       "      <td>20.174277</td>\n",
       "      <td>4.225841</td>\n",
       "      <td>1841.865106</td>\n",
       "      <td>1.203878</td>\n",
       "      <td>3.656633</td>\n",
       "      <td>0.69967</td>\n",
       "      <td>40.187912</td>\n",
       "    </tr>\n",
       "    <tr>\n",
       "      <th>min</th>\n",
       "      <td>10100.000000</td>\n",
       "      <td>6.000000</td>\n",
       "      <td>26.880000</td>\n",
       "      <td>1.000000</td>\n",
       "      <td>482.130000</td>\n",
       "      <td>1.000000</td>\n",
       "      <td>1.000000</td>\n",
       "      <td>2003.00000</td>\n",
       "      <td>33.000000</td>\n",
       "    </tr>\n",
       "    <tr>\n",
       "      <th>25%</th>\n",
       "      <td>10180.000000</td>\n",
       "      <td>27.000000</td>\n",
       "      <td>68.860000</td>\n",
       "      <td>3.000000</td>\n",
       "      <td>2203.430000</td>\n",
       "      <td>2.000000</td>\n",
       "      <td>4.000000</td>\n",
       "      <td>2003.00000</td>\n",
       "      <td>68.000000</td>\n",
       "    </tr>\n",
       "    <tr>\n",
       "      <th>50%</th>\n",
       "      <td>10262.000000</td>\n",
       "      <td>35.000000</td>\n",
       "      <td>95.700000</td>\n",
       "      <td>6.000000</td>\n",
       "      <td>3184.800000</td>\n",
       "      <td>3.000000</td>\n",
       "      <td>8.000000</td>\n",
       "      <td>2004.00000</td>\n",
       "      <td>99.000000</td>\n",
       "    </tr>\n",
       "    <tr>\n",
       "      <th>75%</th>\n",
       "      <td>10333.500000</td>\n",
       "      <td>43.000000</td>\n",
       "      <td>100.000000</td>\n",
       "      <td>9.000000</td>\n",
       "      <td>4508.000000</td>\n",
       "      <td>4.000000</td>\n",
       "      <td>11.000000</td>\n",
       "      <td>2004.00000</td>\n",
       "      <td>124.000000</td>\n",
       "    </tr>\n",
       "    <tr>\n",
       "      <th>max</th>\n",
       "      <td>10425.000000</td>\n",
       "      <td>97.000000</td>\n",
       "      <td>100.000000</td>\n",
       "      <td>18.000000</td>\n",
       "      <td>14082.800000</td>\n",
       "      <td>4.000000</td>\n",
       "      <td>12.000000</td>\n",
       "      <td>2005.00000</td>\n",
       "      <td>214.000000</td>\n",
       "    </tr>\n",
       "  </tbody>\n",
       "</table>\n",
       "</div>"
      ],
      "text/plain": [
       "        ORDERNUMBER  QUANTITYORDERED    PRICEEACH  ORDERLINENUMBER  \\\n",
       "count   2823.000000      2823.000000  2823.000000      2823.000000   \n",
       "mean   10258.725115        35.092809    83.658544         6.466171   \n",
       "std       92.085478         9.741443    20.174277         4.225841   \n",
       "min    10100.000000         6.000000    26.880000         1.000000   \n",
       "25%    10180.000000        27.000000    68.860000         3.000000   \n",
       "50%    10262.000000        35.000000    95.700000         6.000000   \n",
       "75%    10333.500000        43.000000   100.000000         9.000000   \n",
       "max    10425.000000        97.000000   100.000000        18.000000   \n",
       "\n",
       "              SALES       QTR_ID     MONTH_ID     YEAR_ID         MSRP  \n",
       "count   2823.000000  2823.000000  2823.000000  2823.00000  2823.000000  \n",
       "mean    3553.889072     2.717676     7.092455  2003.81509   100.715551  \n",
       "std     1841.865106     1.203878     3.656633     0.69967    40.187912  \n",
       "min      482.130000     1.000000     1.000000  2003.00000    33.000000  \n",
       "25%     2203.430000     2.000000     4.000000  2003.00000    68.000000  \n",
       "50%     3184.800000     3.000000     8.000000  2004.00000    99.000000  \n",
       "75%     4508.000000     4.000000    11.000000  2004.00000   124.000000  \n",
       "max    14082.800000     4.000000    12.000000  2005.00000   214.000000  "
      ]
     },
     "execution_count": 5,
     "metadata": {},
     "output_type": "execute_result"
    }
   ],
   "source": [
    "sales_data.describe()"
   ]
  },
  {
   "cell_type": "code",
   "execution_count": null,
   "id": "54e2cda7-295b-4fd1-b9ed-cd0842eb5042",
   "metadata": {},
   "outputs": [],
   "source": [
    "# 3. Check for null values"
   ]
  },
  {
   "cell_type": "code",
   "execution_count": 6,
   "id": "508e3be2-1e75-413b-a62a-ae9a3f20da4e",
   "metadata": {},
   "outputs": [
    {
     "data": {
      "text/plain": [
       "ORDERNUMBER            0\n",
       "QUANTITYORDERED        0\n",
       "PRICEEACH              0\n",
       "ORDERLINENUMBER        0\n",
       "SALES                  0\n",
       "ORDERDATE              0\n",
       "STATUS                 0\n",
       "QTR_ID                 0\n",
       "MONTH_ID               0\n",
       "YEAR_ID                0\n",
       "PRODUCTLINE            0\n",
       "MSRP                   0\n",
       "PRODUCTCODE            0\n",
       "CUSTOMERNAME           0\n",
       "PHONE                  0\n",
       "ADDRESSLINE1           0\n",
       "ADDRESSLINE2        2521\n",
       "CITY                   0\n",
       "STATE               1486\n",
       "POSTALCODE            76\n",
       "COUNTRY                0\n",
       "TERRITORY           1074\n",
       "CONTACTLASTNAME        0\n",
       "CONTACTFIRSTNAME       0\n",
       "DEALSIZE               0\n",
       "dtype: int64"
      ]
     },
     "execution_count": 6,
     "metadata": {},
     "output_type": "execute_result"
    }
   ],
   "source": [
    "sales_data.isnull().sum()\n"
   ]
  },
  {
   "cell_type": "code",
   "execution_count": null,
   "id": "a8a899c6-2a0f-4ad6-8dcc-867e8fc0f700",
   "metadata": {},
   "outputs": [],
   "source": [
    "# 4. Total Sales by Country"
   ]
  },
  {
   "cell_type": "code",
   "execution_count": 7,
   "id": "d84d01af-c900-40b4-a0f2-b047e0fd7b6f",
   "metadata": {},
   "outputs": [
    {
     "name": "stdout",
     "output_type": "stream",
     "text": [
      "COUNTRY\n",
      "USA            3627982.83\n",
      "Spain          1215686.92\n",
      "France         1110916.52\n",
      "Australia       630623.10\n",
      "UK              478880.46\n",
      "Italy           374674.31\n",
      "Finland         329581.91\n",
      "Norway          307463.70\n",
      "Singapore       288488.41\n",
      "Denmark         245637.15\n",
      "Canada          224078.56\n",
      "Germany         220472.09\n",
      "Sweden          210014.21\n",
      "Austria         202062.53\n",
      "Japan           188167.81\n",
      "Switzerland     117713.56\n",
      "Belgium         108412.62\n",
      "Philippines      94015.73\n",
      "Ireland          57756.43\n",
      "Name: SALES, dtype: float64\n"
     ]
    }
   ],
   "source": [
    "sales_by_country = sales_data.groupby('COUNTRY')['SALES'].sum().sort_values(ascending=False)\n",
    "print(sales_by_country)\n"
   ]
  },
  {
   "cell_type": "code",
   "execution_count": null,
   "id": "7c6ecef7-6633-45c7-a2db-2a3c7e45cadc",
   "metadata": {},
   "outputs": [],
   "source": [
    "# 5. Total Orders by Deal Size"
   ]
  },
  {
   "cell_type": "code",
   "execution_count": 8,
   "id": "2913a153-9125-4522-b069-6b681b798cfd",
   "metadata": {},
   "outputs": [
    {
     "name": "stdout",
     "output_type": "stream",
     "text": [
      "DEALSIZE\n",
      "Medium    1384\n",
      "Small     1282\n",
      "Large      157\n",
      "Name: count, dtype: int64\n"
     ]
    }
   ],
   "source": [
    "orders_by_dealsize = sales_data['DEALSIZE'].value_counts()\n",
    "print(orders_by_dealsize)"
   ]
  },
  {
   "cell_type": "code",
   "execution_count": null,
   "id": "ce6d2a24-9654-4dc2-99ba-1204f93698cf",
   "metadata": {},
   "outputs": [],
   "source": [
    "# 6. Monthly Sales Trend"
   ]
  },
  {
   "cell_type": "code",
   "execution_count": 9,
   "id": "493973ed-b421-41c2-a8e5-87e8370e5817",
   "metadata": {},
   "outputs": [
    {
     "name": "stdout",
     "output_type": "stream",
     "text": [
      "ORDERDATE\n",
      "2003-01     129753.60\n",
      "2003-02     140836.19\n",
      "2003-03     174504.90\n",
      "2003-04     201609.55\n",
      "2003-05     192673.11\n",
      "2003-06     168082.56\n",
      "2003-07     187731.88\n",
      "2003-08     197809.30\n",
      "2003-09     263973.36\n",
      "2003-10     568290.97\n",
      "2003-11    1029837.66\n",
      "2003-12     261876.46\n",
      "2004-01     316577.42\n",
      "2004-02     311419.53\n",
      "2004-03     205733.73\n",
      "2004-04     206148.12\n",
      "2004-05     273438.39\n",
      "2004-06     286674.22\n",
      "2004-07     327144.09\n",
      "2004-08     461501.27\n",
      "2004-09     320750.91\n",
      "2004-10     552924.25\n",
      "2004-11    1089048.01\n",
      "2004-12     372802.66\n",
      "2005-01     339543.42\n",
      "2005-02     358186.18\n",
      "2005-03     374262.76\n",
      "2005-04     261633.29\n",
      "2005-05     457861.06\n",
      "Freq: M, Name: SALES, dtype: float64\n"
     ]
    }
   ],
   "source": [
    "sales_data['ORDERDATE'] = pd.to_datetime(sales_data['ORDERDATE'], errors='coerce')\n",
    "monthly_sales = sales_data.groupby(sales_data['ORDERDATE'].dt.to_period('M'))['SALES'].sum()\n",
    "print(monthly_sales)"
   ]
  },
  {
   "cell_type": "code",
   "execution_count": null,
   "id": "1e272f7d-3df7-4471-8d6d-405306c55b0c",
   "metadata": {},
   "outputs": [],
   "source": [
    "# 7. Top 10 Products by Sales"
   ]
  },
  {
   "cell_type": "code",
   "execution_count": 10,
   "id": "8efa0804-3113-424c-a47f-b821ef4f9838",
   "metadata": {},
   "outputs": [
    {
     "name": "stdout",
     "output_type": "stream",
     "text": [
      "PRODUCTCODE\n",
      "S18_3232    288245.42\n",
      "S10_1949    191073.03\n",
      "S10_4698    170401.07\n",
      "S12_1108    168585.32\n",
      "S18_2238    154623.95\n",
      "S12_3891    145332.04\n",
      "S24_3856    140626.90\n",
      "S12_2823    140006.16\n",
      "S18_1662    139421.97\n",
      "S12_1099    137177.01\n",
      "Name: SALES, dtype: float64\n"
     ]
    }
   ],
   "source": [
    "top_products = sales_data.groupby('PRODUCTCODE')['SALES'].sum().sort_values(ascending=False).head(10)\n",
    "print(top_products)\n"
   ]
  },
  {
   "cell_type": "code",
   "execution_count": null,
   "id": "b04e5613-4ddd-431d-9679-8638fe687a18",
   "metadata": {},
   "outputs": [],
   "source": [
    "# 8. Filter: Orders shipped to USA with sales > 3000"
   ]
  },
  {
   "cell_type": "code",
   "execution_count": 11,
   "id": "2555fe82-6f5f-4ac8-b154-b0d84a694604",
   "metadata": {},
   "outputs": [
    {
     "name": "stdout",
     "output_type": "stream",
     "text": [
      "      ORDERNUMBER  QUANTITYORDERED  PRICEEACH  ORDERLINENUMBER    SALES  \\\n",
      "3           10145               45      83.26                6  3746.70   \n",
      "4           10159               49     100.00               14  5205.27   \n",
      "5           10168               36      96.66                1  3479.76   \n",
      "12          10251               28     100.00                2  3188.64   \n",
      "13          10263               34     100.00                2  3676.76   \n",
      "...           ...              ...        ...              ...      ...   \n",
      "2748        10168               39      82.91               17  3233.49   \n",
      "2752        10222               43      74.03                2  3183.29   \n",
      "2788        10329               44      86.13                8  3789.72   \n",
      "2817        10337               42      97.16                5  4080.72   \n",
      "2822        10414               47      65.52                9  3079.44   \n",
      "\n",
      "      ORDERDATE   STATUS  QTR_ID  MONTH_ID  YEAR_ID  ...  \\\n",
      "3    2003-08-25  Shipped       3         8     2003  ...   \n",
      "4    2003-10-10  Shipped       4        10     2003  ...   \n",
      "5    2003-10-28  Shipped       4        10     2003  ...   \n",
      "12   2004-05-18  Shipped       2         5     2004  ...   \n",
      "13   2004-06-28  Shipped       2         6     2004  ...   \n",
      "...         ...      ...     ...       ...      ...  ...   \n",
      "2748 2003-10-28  Shipped       4        10     2003  ...   \n",
      "2752 2004-02-19  Shipped       1         2     2004  ...   \n",
      "2788 2004-11-15  Shipped       4        11     2004  ...   \n",
      "2817 2004-11-21  Shipped       4        11     2004  ...   \n",
      "2822 2005-05-06  On Hold       2         5     2005  ...   \n",
      "\n",
      "                 ADDRESSLINE1  ADDRESSLINE2           CITY STATE POSTALCODE  \\\n",
      "3          78934 Hillside Dr.           NaN       Pasadena    CA      90003   \n",
      "4             7734 Strong St.           NaN  San Francisco    CA        NaN   \n",
      "5           9408 Furth Circle           NaN     Burlingame    CA      94217   \n",
      "12              7476 Moss Rd.           NaN         Newark    NJ      94019   \n",
      "13        25593 South Bay Ln.           NaN    Bridgewater    CT      97562   \n",
      "...                       ...           ...            ...   ...        ...   \n",
      "2748        9408 Furth Circle           NaN     Burlingame    CA      94217   \n",
      "2752         361 Furth Circle           NaN      San Diego    CA      91217   \n",
      "2788  897 Long Airport Avenue           NaN            NYC    NY      10022   \n",
      "2817         5905 Pompton St.     Suite 750            NYC    NY      10022   \n",
      "2822       8616 Spinnaker Dr.           NaN         Boston    MA      51003   \n",
      "\n",
      "     COUNTRY TERRITORY CONTACTLASTNAME CONTACTFIRSTNAME DEALSIZE  \n",
      "3        USA       NaN           Young            Julie   Medium  \n",
      "4        USA       NaN           Brown            Julie   Medium  \n",
      "5        USA       NaN          Hirano             Juri   Medium  \n",
      "12       USA       NaN           Brown          William   Medium  \n",
      "13       USA       NaN            King            Julie   Medium  \n",
      "...      ...       ...             ...              ...      ...  \n",
      "2748     USA       NaN          Hirano             Juri   Medium  \n",
      "2752     USA       NaN        Thompson          Valarie   Medium  \n",
      "2788     USA       NaN              Yu             Kwai   Medium  \n",
      "2817     USA       NaN       Hernandez            Maria   Medium  \n",
      "2822     USA       NaN         Yoshido             Juri   Medium  \n",
      "\n",
      "[569 rows x 25 columns]\n"
     ]
    }
   ],
   "source": [
    "usa_high_sales = sales_data[(sales_data['COUNTRY'] == 'USA') & (sales_data['SALES'] > 3000)]\n",
    "print(usa_high_sales)"
   ]
  },
  {
   "cell_type": "code",
   "execution_count": null,
   "id": "c17efbc3-af9b-40eb-b4f6-1d0b0723a5a5",
   "metadata": {},
   "outputs": [],
   "source": [
    "# 9. Sort dataset by Sales in descending order"
   ]
  },
  {
   "cell_type": "code",
   "execution_count": 12,
   "id": "4a812042-f649-48fc-9e3a-7e49588b5643",
   "metadata": {},
   "outputs": [
    {
     "name": "stdout",
     "output_type": "stream",
     "text": [
      "      ORDERNUMBER  QUANTITYORDERED  PRICEEACH  ORDERLINENUMBER    SALES  \\\n",
      "598         10407               76      100.0                2  14082.8   \n",
      "744         10322               50      100.0                6  12536.5   \n",
      "53          10424               50      100.0                6  12001.0   \n",
      "1062        10412               60      100.0                9  11887.8   \n",
      "104         10403               66      100.0                9  11886.6   \n",
      "\n",
      "      ORDERDATE      STATUS  QTR_ID  MONTH_ID  YEAR_ID  ...  \\\n",
      "598  2005-04-22     On Hold       2         4     2005  ...   \n",
      "744  2004-11-04     Shipped       4        11     2004  ...   \n",
      "53   2005-05-31  In Process       2         5     2005  ...   \n",
      "1062 2005-05-03     Shipped       2         5     2005  ...   \n",
      "104  2005-04-08     Shipped       2         4     2005  ...   \n",
      "\n",
      "                      ADDRESSLINE1  ADDRESSLINE2       CITY STATE POSTALCODE  \\\n",
      "598                 3086 Ingle Ln.           NaN   San Jose    CA      94217   \n",
      "744       2304 Long Airport Avenue           NaN     Nashua    NH      62005   \n",
      "53              C/ Moralzarzal, 86           NaN     Madrid   NaN      28034   \n",
      "1062            C/ Moralzarzal, 86           NaN     Madrid   NaN      28034   \n",
      "104   Berkeley Gardens 12  Brewery           NaN  Liverpool   NaN    WX1 6LT   \n",
      "\n",
      "     COUNTRY TERRITORY CONTACTLASTNAME CONTACTFIRSTNAME DEALSIZE  \n",
      "598      USA       NaN           Frick              Sue    Large  \n",
      "744      USA       NaN           Young          Valarie    Large  \n",
      "53     Spain      EMEA          Freyre            Diego    Large  \n",
      "1062   Spain      EMEA          Freyre            Diego    Large  \n",
      "104       UK      EMEA           Devon        Elizabeth    Large  \n",
      "\n",
      "[5 rows x 25 columns]\n"
     ]
    }
   ],
   "source": [
    "sorted_sales = sales_data.sort_values(by='SALES', ascending=False)\n",
    "print(sorted_sales.head())"
   ]
  },
  {
   "cell_type": "code",
   "execution_count": null,
   "id": "260c80fe-80d8-4b67-84d3-5dd56d2faeff",
   "metadata": {},
   "outputs": [],
   "source": [
    "THANK YOU BY DURGAM MANOHAR"
   ]
  }
 ],
 "metadata": {
  "kernelspec": {
   "display_name": "Python 3 (ipykernel)",
   "language": "python",
   "name": "python3"
  },
  "language_info": {
   "codemirror_mode": {
    "name": "ipython",
    "version": 3
   },
   "file_extension": ".py",
   "mimetype": "text/x-python",
   "name": "python",
   "nbconvert_exporter": "python",
   "pygments_lexer": "ipython3",
   "version": "3.13.3"
  }
 },
 "nbformat": 4,
 "nbformat_minor": 5
}
